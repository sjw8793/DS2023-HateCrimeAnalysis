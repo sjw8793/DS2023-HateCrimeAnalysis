{
 "cells": [
  {
   "cell_type": "markdown",
   "metadata": {
    "colab_type": "text",
    "id": "view-in-github"
   },
   "source": [
    "<a href=\"https://colab.research.google.com/github/sjw8793/DS2023-HateCrimeAnalysis/blob/main/Hypothesis_test(1).ipynb\" target=\"_parent\"><img src=\"https://colab.research.google.com/assets/colab-badge.svg\" alt=\"Open In Colab\"/></a>"
   ]
  },
  {
   "cell_type": "code",
   "execution_count": 4,
   "metadata": {
    "colab": {
     "base_uri": "https://localhost:8080/"
    },
    "id": "ukE0s0a-8vqw",
    "outputId": "1018fa17-e766-4fde-d42f-119d03022b85"
   },
   "outputs": [
    {
     "name": "stdout",
     "output_type": "stream",
     "text": [
      "Drive already mounted at /content/gdrive; to attempt to forcibly remount, call drive.mount(\"/content/gdrive\", force_remount=True).\n",
      "/content/gdrive/MyDrive/SSU2023_1/DataScience/dataset\n"
     ]
    }
   ],
   "source": [
    "from google.colab import drive\n",
    "drive.mount('/content/gdrive')\n",
    "%cd \"/content/gdrive/MyDrive/SSU2023_1/DataScience/dataset\""
   ]
  },
  {
   "cell_type": "code",
   "execution_count": 2,
   "metadata": {
    "id": "F111Km-E_dvC"
   },
   "outputs": [],
   "source": [
    "import pandas as pd\n",
    "import numpy as np\n",
    "import matplotlib.pyplot as plt\n",
    "import seaborn as sns\n",
    "import random"
   ]
  },
  {
   "cell_type": "markdown",
   "metadata": {
    "id": "X4uaNCuBBrhw"
   },
   "source": [
    "## Preprocessing - 데이터 합치기\n",
    "### 인구수 기반으로 정규화한 데이터 & 주별 소득 & 주별 인종 비율"
   ]
  },
  {
   "cell_type": "code",
   "execution_count": 13,
   "metadata": {
    "id": "G67q2FxuBtrT"
   },
   "outputs": [
    {
     "name": "stdout",
     "output_type": "stream",
     "text": [
      "   state_name  hate_crime_case_normalized  number_of_victims_normalized   \n",
      "0      Alaska                    5.398235                      5.398235  \\\n",
      "1     Alabama                    2.870035                      2.870035   \n",
      "2    Arkansas                    7.989733                      8.988450   \n",
      "3     Arizona                   37.456967                     50.652035   \n",
      "4  California                   27.810412                     33.453841   \n",
      "\n",
      "   number_of_offenders_normalized  median_income  mean_income  White  Black   \n",
      "0                        2.699117       79429.25     96527.00   0.60   0.02  \\\n",
      "1                        2.255028       51197.75     67768.25   0.65   0.27   \n",
      "2                        9.321355       47546.75     63906.00   0.72   0.15   \n",
      "3                       34.335553       57060.50     76445.00   0.54   0.04   \n",
      "4                       25.776744       70413.50     98614.25   0.36   0.05   \n",
      "\n",
      "   Hispanic  Asian  Multiple  Others     2017    gini  \n",
      "0      0.07   0.06      0.08    0.17  104.947  0.4776  \n",
      "1      0.04   0.01      0.02    0.00   89.938  0.4180  \n",
      "2      0.08   0.02      0.02    0.01   88.259  0.4690  \n",
      "3      0.32   0.03      0.02    0.04   97.780  0.4732  \n",
      "4      0.40   0.15      0.03    0.00  110.882  0.4889  \n"
     ]
    }
   ],
   "source": [
    "norm_pop_2017 = pd.read_csv('dataset/normalized_dataset_2017.csv')\n",
    "norm_pop_2018 = pd.read_csv('dataset/normalized_dataset_2018.csv')\n",
    "norm_pop_2019 = pd.read_csv('dataset/normalized_dataset_2019.csv')\n",
    "norm_pop_2020 = pd.read_csv('dataset/normalized_dataset_2020.csv')\n",
    "norm_pop_2021 = pd.read_csv('dataset/normalized_dataset_2021.csv')\n",
    "\n",
    "income_2017 = pd.read_excel('dataset/new_income_2017.xlsx')\n",
    "income_2018 = pd.read_excel('dataset/new_income_2018.xlsx')\n",
    "income_2019 = pd.read_excel('dataset/new_income_2019.xlsx')\n",
    "income_2020 = pd.read_excel('dataset/new_income_2020.xlsx')\n",
    "income_2021 = pd.read_excel('dataset/new_income_2021.xlsx')\n",
    "\n",
    "gini_2017 = pd.read_excel('new_gini_2017.xlsx')\n",
    "gini_2018 = pd.read_excel('new_gini_2018.xlsx')\n",
    "gini_2019 = pd.read_excel('new_gini_2019.xlsx')\n",
    "gini_2020 = pd.read_excel('new_gini_2020.xlsx')\n",
    "gini_2021 = pd.read_excel('new_gini_2021.xlsx')\n",
    "\n",
    "df1_2017 = pd.merge(norm_pop_2017,income_2017,on='state_name')\n",
    "df1_2018 = pd.merge(norm_pop_2018, income_2018,on='state_name')\n",
    "df1_2019 = pd.merge(norm_pop_2019, income_2019,on='state_name')\n",
    "df1_2020 = pd.merge(norm_pop_2020, income_2020,on='state_name')\n",
    "df1_2021 = pd.merge(norm_pop_2021, income_2021,on='state_name')\n",
    "\n",
    "df1_2017 = pd.merge(df1_2017,gini_2017,on='state_name')\n",
    "df1_2018 = pd.merge(df1_2018, gini_2018,on='state_name')\n",
    "df1_2019 = pd.merge(df1_2019, gini_2019,on='state_name')\n",
    "df1_2020 = pd.merge(df1_2020, gini_2020,on='state_name')\n",
    "df1_2021 = pd.merge(df1_2021, gini_2021,on='state_name')\n",
    "\n",
    "df1_2017 = df1_2017.drop(['number_of_victims_normalized','number_of_offenders_normalized'], axis=1)\n",
    "df1_2018 = df1_2018.drop(['number_of_victims_normalized','number_of_offenders_normalized'], axis=1)\n",
    "df1_2019 = df1_2019.drop(['number_of_victims_normalized','number_of_offenders_normalized'], axis=1)\n",
    "df1_2020 = df1_2020.drop(['number_of_victims_normalized','number_of_offenders_normalized'], axis=1)\n",
    "df1_2021 = df1_2021.drop(['number_of_victims_normalized','number_of_offenders_normalized'], axis=1)\n",
    "\n",
    "norm_race_2017 = pd.read_csv('dataset/norm_2017_race.csv')\n",
    "norm_race_2018 = pd.read_csv('dataset/norm_2018_race.csv')\n",
    "norm_race_2019 = pd.read_csv('dataset/norm_2019_race.csv')\n",
    "norm_race_2020 = pd.read_csv('dataset/norm_2020_race.csv')\n",
    "norm_race_2021 = pd.read_csv('dataset/norm_2021_race.csv')\n",
    "\n",
    "# 각 데이터프레임에서 컬럼 이름 변경\n",
    "norm_race_2017 = norm_race_2017.rename(columns={'State': 'state_name'})\n",
    "norm_race_2018 = norm_race_2018.rename(columns={'State': 'state_name'})\n",
    "norm_race_2019 = norm_race_2019.rename(columns={'State': 'state_name'})\n",
    "norm_race_2020 = norm_race_2020.rename(columns={'State': 'state_name'})\n",
    "norm_race_2021 = norm_race_2021.rename(columns={'State': 'state_name'})\n",
    "\n",
    "\n",
    "df2_2017 = pd.merge(norm_race_2017, income_2017, on='state_name')\n",
    "df2_2018 = pd.merge(norm_race_2018, income_2018, on='state_name')\n",
    "df2_2019 = pd.merge(norm_race_2019, income_2019, on='state_name')\n",
    "df2_2020 = pd.merge(norm_race_2020, income_2020, on='state_name')\n",
    "df2_2021 = pd.merge(norm_race_2021, income_2021, on='state_name')\n",
    "\n",
    "data_2017 = pd.read_csv(\"data_2017.csv\")\n",
    "data_2018 = pd.read_csv(\"data_2018.csv\")\n",
    "data_2019 = pd.read_csv(\"data_2019.csv\")\n",
    "data_2020 = pd.read_csv(\"data_2020.csv\")\n",
    "data_2021 = pd.read_csv(\"data_2021.csv\")\n",
    "\n",
    "RPP = pd.read_excel(\"dataset/RPP.xlsx\")\n",
    "\n",
    "race_portion = pd.read_csv('dataset/race_portion.csv')\n",
    "\n",
    "races = list(race_portion.columns)\n",
    "races.remove('State')\n",
    "\n",
    "for race in races:\n",
    "    race_portion[race] = race_portion[race].str.rstrip('%').astype('float') / 100.0\n",
    "race_portion = race_portion.rename(columns = {'State': 'state_name'})\n",
    "\n",
    "RPP_2017 = RPP[['state_name', 2017]]\n",
    "RPP_2018 = RPP[['state_name', 2018]]\n",
    "RPP_2019 = RPP[['state_name', 2019]]\n",
    "RPP_2020 = RPP[['state_name', 2020]]\n",
    "RPP_2021 = RPP[['state_name', 2021]]\n",
    "\n",
    "data_2017 = pd.merge(data_2017,race_portion,on='state_name')\n",
    "data_2018 = pd.merge(data_2018,race_portion,on='state_name')\n",
    "data_2019 = pd.merge(data_2019,race_portion,on='state_name')\n",
    "data_2020 = pd.merge(data_2020,race_portion,on='state_name')\n",
    "data_2021 = pd.merge(data_2021,race_portion,on='state_name')\n",
    "\n",
    "data_2017 = pd.merge(data_2017,RPP_2017,on='state_name')\n",
    "data_2018 = pd.merge(data_2018,RPP_2018,on='state_name')\n",
    "data_2019 = pd.merge(data_2019,RPP_2019,on='state_name')\n",
    "data_2020 = pd.merge(data_2020,RPP_2020,on='state_name')\n",
    "data_2021 = pd.merge(data_2021,RPP_2021,on='state_name')\n",
    "\n",
    "data_2017 = pd.merge(data_2017,gini_2017,on='state_name')\n",
    "data_2018 = pd.merge(data_2018,gini_2018,on='state_name')\n",
    "data_2019 = pd.merge(data_2019,gini_2019,on='state_name')\n",
    "data_2020 = pd.merge(data_2020,gini_2020,on='state_name')\n",
    "data_2021 = pd.merge(data_2021,gini_2021,on='state_name')\n",
    "print(data_2017.head())"
   ]
  },
  {
   "cell_type": "markdown",
   "metadata": {
    "id": "erSNK7q6Bxh4"
   },
   "source": [
    "### 상관분석 _ 피어슨 상관계수 사용\n",
    "#### 주별 소득수준과 범죄횟수 간의 상관관계 파악"
   ]
  },
  {
   "cell_type": "markdown",
   "metadata": {
    "id": "Zz9RTx70CBJQ"
   },
   "source": [
    "피어슨 상관 계수는 연속형 변수 간의 상관 관계를 평가하는 데 적합하며, 스피어만 상관 계수는 순위 형태의 변수 또는 비선형 관계를 갖는 변수 간의 상관 관계를 평가하는 데 적합"
   ]
  },
  {
   "cell_type": "code",
   "execution_count": 30,
   "metadata": {
    "colab": {
     "base_uri": "https://localhost:8080/"
    },
    "id": "K1R2SxQhB6uj",
    "outputId": "11f75366-aebf-4cfa-a4bb-3d32f9442645"
   },
   "outputs": [
    {
     "name": "stdout",
     "output_type": "stream",
     "text": [
      "Year: 2017, Pearson Correlation Coefficient: -0.012954881564965208\n",
      "Year: 2018, Pearson Correlation Coefficient: -0.10857559888989644\n",
      "Year: 2019, Pearson Correlation Coefficient: -0.05938299637594845\n",
      "Year: 2020, Pearson Correlation Coefficient: -0.019127675144594614\n",
      "Year: 2021, Pearson Correlation Coefficient: -0.2708546107035588\n"
     ]
    }
   ],
   "source": [
    "# 연도별 데이터를 담을 빈 리스트 생성\n",
    "correlation_results = []\n",
    "\n",
    "# 연도별로 데이터 분할 및 피어슨 상관 계수 계산\n",
    "for year in range(2017, 2022):\n",
    "    # 해당 연도의 데이터프레임 선택\n",
    "    data = globals()[f\"data_{year}\"]\n",
    "    \n",
    "    # column선택 : state_name, hate_crime_case_normalized, median_income\n",
    "    selected_data = data[['state_name', 'hate_crime_case_normalized','gini', 'median_income']]\n",
    "    \n",
    "    # 피어슨 상관 계수 계산\n",
    "    pearson_corr = selected_data['hate_crime_case_normalized'].corr(selected_data['gini'], method='pearson')\n",
    "    \n",
    "    # 결과를 딕셔너리로 저장\n",
    "    correlation_results.append({'Year': year, 'Pearson Correlation Coefficient': pearson_corr})\n",
    "\n",
    "    # 산점도 출력\n",
    "    x = data['gini']\n",
    "    y = data['hate_crime_case_normalized']\n",
    "\n",
    "    #산점도 그리기\n",
    "    #plt.scatter(x, y)\n",
    "    #plt.xlabel('Median Income')\n",
    "    #plt.ylabel('Hate Crime Case Normalized')\n",
    "    #plt.title('Scatter Plot of Median Income vs. Hate Crime Case Normalized')\n",
    "    #plt.show()\n",
    "\n",
    "# 결과 출력\n",
    "for result in correlation_results:\n",
    "    print(f\"Year: {result['Year']}, Pearson Correlation Coefficient: {result['Pearson Correlation Coefficient']}\")"
   ]
  },
  {
   "cell_type": "markdown",
   "metadata": {
    "id": "owwOV5H9-5Gn"
   },
   "source": [
    "## 3. 검정통계량 산출"
   ]
  },
  {
   "cell_type": "markdown",
   "metadata": {
    "id": "zBIwpafUHYos"
   },
   "source": [
    "#### 우선, 독립변수들 간의 다중공선성(Multicollinearity) 판단\n",
    "#### 회귀분석의 전제 가정 : 독립변수들 간에 상관관계가 높으면 안됨\n",
    "#### 일반적으로 5 이상의 값이 나타나면 다중공선성의 증거로 간주"
   ]
  },
  {
   "cell_type": "code",
   "execution_count": 29,
   "metadata": {
    "colab": {
     "base_uri": "https://localhost:8080/"
    },
    "id": "fOK6XRqvHqpO",
    "outputId": "1247a448-58f8-4267-b50c-be0a037a0d93"
   },
   "outputs": [
    {
     "name": "stdout",
     "output_type": "stream",
     "text": [
      "Dataset: data_2017\n",
      "        Features        VIF\n",
      "0  median_income  31.856327\n",
      "1           gini  31.856327\n",
      "Dataset: data_2018\n",
      "        Features      VIF\n",
      "0  median_income  29.8862\n",
      "1           gini  29.8862\n",
      "Dataset: data_2019\n",
      "        Features        VIF\n",
      "0  median_income  29.949191\n",
      "1           gini  29.949191\n",
      "Dataset: data_2020\n",
      "        Features        VIF\n",
      "0  median_income  29.524947\n",
      "1           gini  29.524947\n",
      "Dataset: data_2021\n",
      "        Features        VIF\n",
      "0  median_income  31.460805\n",
      "1           gini  31.460805\n"
     ]
    }
   ],
   "source": [
    "from statsmodels.stats.outliers_influence import variance_inflation_factor\n",
    "\n",
    "datasets = [data_2017, data_2018, data_2019, data_2020, data_2021]\n",
    "\n",
    "# Perform regression analysis for each dataset\n",
    "for i, data in enumerate(datasets):\n",
    "    print(f\"Dataset: data_{2017 + i}\")\n",
    "\n",
    "    # 독립 변수만 선택\n",
    "    X = data[['median_income','gini']]\n",
    "\n",
    "    # VIF 계산\n",
    "    vif = pd.DataFrame()\n",
    "    vif[\"Features\"] = X.columns\n",
    "    vif[\"VIF\"] = [variance_inflation_factor(X.values, i) for i in range(X.shape[1])]\n",
    "\n",
    "    # 결과 출력\n",
    "    print(vif)\n"
   ]
  },
  {
   "cell_type": "code",
   "execution_count": 31,
   "metadata": {
    "colab": {
     "base_uri": "https://localhost:8080/"
    },
    "id": "OxkaWjD-E8Hm",
    "outputId": "f3789498-e65b-49d4-cecb-ed1914fe34dc"
   },
   "outputs": [
    {
     "name": "stdout",
     "output_type": "stream",
     "text": [
      "Dataset: data_2017\n",
      "                                OLS Regression Results                                \n",
      "======================================================================================\n",
      "Dep. Variable:     hate_crime_case_normalized   R-squared:                       0.000\n",
      "Model:                                    OLS   Adj. R-squared:                 -0.020\n",
      "Method:                         Least Squares   F-statistic:                  0.008225\n",
      "Date:                        Sat, 03 Jun 2023   Prob (F-statistic):              0.928\n",
      "Time:                                17:46:14   Log-Likelihood:                -260.10\n",
      "No. Observations:                          51   AIC:                             524.2\n",
      "Df Residuals:                              49   BIC:                             528.1\n",
      "Df Model:                                   1                                         \n",
      "Covariance Type:                    nonrobust                                         \n",
      "==============================================================================\n",
      "                 coef    std err          t      P>|t|      [0.025      0.975]\n",
      "------------------------------------------------------------------------------\n",
      "const         37.9750    127.283      0.298      0.767    -217.809     293.759\n",
      "gini         -24.8064    273.524     -0.091      0.928    -574.474     524.862\n",
      "==============================================================================\n",
      "Omnibus:                       91.036   Durbin-Watson:                   1.890\n",
      "Prob(Omnibus):                  0.000   Jarque-Bera (JB):             1894.434\n",
      "Skew:                           4.977   Prob(JB):                         0.00\n",
      "Kurtosis:                      31.150   Cond. No.                         58.7\n",
      "==============================================================================\n",
      "\n",
      "Notes:\n",
      "[1] Standard Errors assume that the covariance matrix of the errors is correctly specified.\n",
      "Dataset: data_2018\n",
      "                                OLS Regression Results                                \n",
      "======================================================================================\n",
      "Dep. Variable:     hate_crime_case_normalized   R-squared:                       0.012\n",
      "Model:                                    OLS   Adj. R-squared:                 -0.009\n",
      "Method:                         Least Squares   F-statistic:                    0.5607\n",
      "Date:                        Sat, 03 Jun 2023   Prob (F-statistic):              0.458\n",
      "Time:                                17:46:14   Log-Likelihood:                -253.50\n",
      "No. Observations:                          49   AIC:                             511.0\n",
      "Df Residuals:                              47   BIC:                             514.8\n",
      "Df Model:                                   1                                         \n",
      "Covariance Type:                    nonrobust                                         \n",
      "==============================================================================\n",
      "                 coef    std err          t      P>|t|      [0.025      0.975]\n",
      "------------------------------------------------------------------------------\n",
      "const        140.8698    151.854      0.928      0.358    -164.620     446.360\n",
      "gini        -243.1599    324.740     -0.749      0.458    -896.452     410.133\n",
      "==============================================================================\n",
      "Omnibus:                       93.167   Durbin-Watson:                   1.838\n",
      "Prob(Omnibus):                  0.000   Jarque-Bera (JB):             2154.136\n",
      "Skew:                           5.293   Prob(JB):                         0.00\n",
      "Kurtosis:                      33.709   Cond. No.                         63.5\n",
      "==============================================================================\n",
      "\n",
      "Notes:\n",
      "[1] Standard Errors assume that the covariance matrix of the errors is correctly specified.\n",
      "Dataset: data_2019\n",
      "                                OLS Regression Results                                \n",
      "======================================================================================\n",
      "Dep. Variable:     hate_crime_case_normalized   R-squared:                       0.004\n",
      "Model:                                    OLS   Adj. R-squared:                 -0.017\n",
      "Method:                         Least Squares   F-statistic:                    0.1734\n",
      "Date:                        Sat, 03 Jun 2023   Prob (F-statistic):              0.679\n",
      "Time:                                17:46:14   Log-Likelihood:                -265.85\n",
      "No. Observations:                          51   AIC:                             535.7\n",
      "Df Residuals:                              49   BIC:                             539.6\n",
      "Df Model:                                   1                                         \n",
      "Covariance Type:                    nonrobust                                         \n",
      "==============================================================================\n",
      "                 coef    std err          t      P>|t|      [0.025      0.975]\n",
      "------------------------------------------------------------------------------\n",
      "const         89.4056    147.325      0.607      0.547    -206.655     385.467\n",
      "gini        -131.6089    316.052     -0.416      0.679    -766.739     503.521\n",
      "==============================================================================\n",
      "Omnibus:                       94.208   Durbin-Watson:                   1.957\n",
      "Prob(Omnibus):                  0.000   Jarque-Bera (JB):             2143.515\n",
      "Skew:                           5.226   Prob(JB):                         0.00\n",
      "Kurtosis:                      32.991   Cond. No.                         60.6\n",
      "==============================================================================\n",
      "\n",
      "Notes:\n",
      "[1] Standard Errors assume that the covariance matrix of the errors is correctly specified.\n",
      "Dataset: data_2020\n",
      "                                OLS Regression Results                                \n",
      "======================================================================================\n",
      "Dep. Variable:     hate_crime_case_normalized   R-squared:                       0.000\n",
      "Model:                                    OLS   Adj. R-squared:                 -0.020\n",
      "Method:                         Least Squares   F-statistic:                   0.01793\n",
      "Date:                        Sat, 03 Jun 2023   Prob (F-statistic):              0.894\n",
      "Time:                                17:46:14   Log-Likelihood:                -249.41\n",
      "No. Observations:                          51   AIC:                             502.8\n",
      "Df Residuals:                              49   BIC:                             506.7\n",
      "Df Model:                                   1                                         \n",
      "Covariance Type:                    nonrobust                                         \n",
      "==============================================================================\n",
      "                 coef    std err          t      P>|t|      [0.025      0.975]\n",
      "------------------------------------------------------------------------------\n",
      "const         47.4095    106.441      0.445      0.658    -166.491     261.310\n",
      "gini         -30.6217    228.659     -0.134      0.894    -490.130     428.887\n",
      "==============================================================================\n",
      "Omnibus:                       46.562   Durbin-Watson:                   2.178\n",
      "Prob(Omnibus):                  0.000   Jarque-Bera (JB):              161.877\n",
      "Skew:                           2.571   Prob(JB):                     7.06e-36\n",
      "Kurtosis:                      10.052   Cond. No.                         60.5\n",
      "==============================================================================\n",
      "\n",
      "Notes:\n",
      "[1] Standard Errors assume that the covariance matrix of the errors is correctly specified.\n"
     ]
    }
   ],
   "source": [
    "# 다중회귀분석 진\n",
    "datasets = [data_2017,data_2018,data_2019,data_2020]\n",
    "\n",
    "# Perform regression analysis for each dataset\n",
    "for i, data in enumerate(datasets):\n",
    "    print(f\"Dataset: data_{2017 + i}\")\n",
    "    data['median_income*gini'] = data['median_income'] * data['gini'] \n",
    "    \n",
    "    # 독립 변수와 종속 변수 설정\n",
    "    X = data['gini']\n",
    "    y = data['hate_crime_case_normalized']\n",
    "\n",
    "    # 상수 (절편) 추가\n",
    "    X = sm.add_constant(X)\n",
    "    \n",
    "    # 다중 선형 회귀 모델 학습\n",
    "    model = sm.OLS(y, X).fit()\n",
    "\n",
    "    # 회귀 분석 결과 출력\n",
    "    print(model.summary())"
   ]
  },
  {
   "cell_type": "code",
   "execution_count": 36,
   "metadata": {},
   "outputs": [
    {
     "name": "stdout",
     "output_type": "stream",
     "text": [
      "Dataset: data_2017\n",
      "                                OLS Regression Results                                \n",
      "======================================================================================\n",
      "Dep. Variable:     hate_crime_case_normalized   R-squared:                       0.277\n",
      "Model:                                    OLS   Adj. R-squared:                  0.230\n",
      "Method:                         Least Squares   F-statistic:                     5.992\n",
      "Date:                        Sat, 03 Jun 2023   Prob (F-statistic):            0.00152\n",
      "Time:                                17:49:20   Log-Likelihood:                -251.85\n",
      "No. Observations:                          51   AIC:                             511.7\n",
      "Df Residuals:                              47   BIC:                             519.4\n",
      "Df Model:                                   3                                         \n",
      "Covariance Type:                    nonrobust                                         \n",
      "======================================================================================\n",
      "                         coef    std err          t      P>|t|      [0.025      0.975]\n",
      "--------------------------------------------------------------------------------------\n",
      "const              -1040.9019    761.656     -1.367      0.178   -2573.155     491.352\n",
      "median_income          0.0168      0.012      1.389      0.171      -0.008       0.041\n",
      "gini                2045.2503   1637.377      1.249      0.218   -1248.728    5339.228\n",
      "median_income*gini    -0.0321      0.026     -1.236      0.223      -0.084       0.020\n",
      "==============================================================================\n",
      "Omnibus:                       54.876   Durbin-Watson:                   1.984\n",
      "Prob(Omnibus):                  0.000   Jarque-Bera (JB):              372.392\n",
      "Skew:                           2.693   Prob(JB):                     1.37e-81\n",
      "Kurtosis:                      15.093   Cond. No.                     2.58e+07\n",
      "==============================================================================\n",
      "\n",
      "Notes:\n",
      "[1] Standard Errors assume that the covariance matrix of the errors is correctly specified.\n",
      "[2] The condition number is large, 2.58e+07. This might indicate that there are\n",
      "strong multicollinearity or other numerical problems.\n",
      "Dataset: data_2018\n",
      "                                OLS Regression Results                                \n",
      "======================================================================================\n",
      "Dep. Variable:     hate_crime_case_normalized   R-squared:                       0.357\n",
      "Model:                                    OLS   Adj. R-squared:                  0.314\n",
      "Method:                         Least Squares   F-statistic:                     8.329\n",
      "Date:                        Sat, 03 Jun 2023   Prob (F-statistic):           0.000163\n",
      "Time:                                17:49:20   Log-Likelihood:                -242.97\n",
      "No. Observations:                          49   AIC:                             493.9\n",
      "Df Residuals:                              45   BIC:                             501.5\n",
      "Df Model:                                   3                                         \n",
      "Covariance Type:                    nonrobust                                         \n",
      "======================================================================================\n",
      "                         coef    std err          t      P>|t|      [0.025      0.975]\n",
      "--------------------------------------------------------------------------------------\n",
      "const              -1747.8373    836.869     -2.089      0.042   -3433.378     -62.296\n",
      "median_income          0.0272      0.012      2.181      0.034       0.002       0.052\n",
      "gini                3524.2611   1793.468      1.965      0.056     -87.968    7136.491\n",
      "median_income*gini    -0.0541      0.027     -2.019      0.049      -0.108      -0.000\n",
      "==============================================================================\n",
      "Omnibus:                       47.394   Durbin-Watson:                   1.840\n",
      "Prob(Omnibus):                  0.000   Jarque-Bera (JB):              261.742\n",
      "Skew:                           2.352   Prob(JB):                     1.46e-57\n",
      "Kurtosis:                      13.299   Cond. No.                     2.84e+07\n",
      "==============================================================================\n",
      "\n",
      "Notes:\n",
      "[1] Standard Errors assume that the covariance matrix of the errors is correctly specified.\n",
      "[2] The condition number is large, 2.84e+07. This might indicate that there are\n",
      "strong multicollinearity or other numerical problems.\n",
      "Dataset: data_2019\n",
      "                                OLS Regression Results                                \n",
      "======================================================================================\n",
      "Dep. Variable:     hate_crime_case_normalized   R-squared:                       0.421\n",
      "Model:                                    OLS   Adj. R-squared:                  0.384\n",
      "Method:                         Least Squares   F-statistic:                     11.39\n",
      "Date:                        Sat, 03 Jun 2023   Prob (F-statistic):           9.81e-06\n",
      "Time:                                17:49:20   Log-Likelihood:                -252.00\n",
      "No. Observations:                          51   AIC:                             512.0\n",
      "Df Residuals:                              47   BIC:                             519.7\n",
      "Df Model:                                   3                                         \n",
      "Covariance Type:                    nonrobust                                         \n",
      "======================================================================================\n",
      "                         coef    std err          t      P>|t|      [0.025      0.975]\n",
      "--------------------------------------------------------------------------------------\n",
      "const              -1466.4510    749.517     -1.957      0.056   -2974.285      41.383\n",
      "median_income          0.0220      0.011      2.003      0.051      -0.000       0.044\n",
      "gini                2882.5917   1612.636      1.788      0.080    -361.614    6126.798\n",
      "median_income*gini    -0.0424      0.024     -1.794      0.079      -0.090       0.005\n",
      "==============================================================================\n",
      "Omnibus:                       43.364   Durbin-Watson:                   2.083\n",
      "Prob(Omnibus):                  0.000   Jarque-Bera (JB):              232.125\n",
      "Skew:                           2.033   Prob(JB):                     3.93e-51\n",
      "Kurtosis:                      12.628   Cond. No.                     2.75e+07\n",
      "==============================================================================\n",
      "\n",
      "Notes:\n",
      "[1] Standard Errors assume that the covariance matrix of the errors is correctly specified.\n",
      "[2] The condition number is large, 2.75e+07. This might indicate that there are\n",
      "strong multicollinearity or other numerical problems.\n",
      "Dataset: data_2020\n",
      "                                OLS Regression Results                                \n",
      "======================================================================================\n",
      "Dep. Variable:     hate_crime_case_normalized   R-squared:                       0.255\n",
      "Model:                                    OLS   Adj. R-squared:                  0.207\n",
      "Method:                         Least Squares   F-statistic:                     5.353\n",
      "Date:                        Sat, 03 Jun 2023   Prob (F-statistic):            0.00297\n",
      "Time:                                17:49:20   Log-Likelihood:                -241.92\n",
      "No. Observations:                          51   AIC:                             491.8\n",
      "Df Residuals:                              47   BIC:                             499.6\n",
      "Df Model:                                   3                                         \n",
      "Covariance Type:                    nonrobust                                         \n",
      "======================================================================================\n",
      "                         coef    std err          t      P>|t|      [0.025      0.975]\n",
      "--------------------------------------------------------------------------------------\n",
      "const                -67.3249    626.467     -0.107      0.915   -1327.614    1192.965\n",
      "median_income          0.0009      0.009      0.105      0.917      -0.017       0.019\n",
      "gini                  16.5371   1350.425      0.012      0.990   -2700.167    2733.241\n",
      "median_income*gini     0.0008      0.020      0.041      0.967      -0.038       0.040\n",
      "==============================================================================\n",
      "Omnibus:                       20.696   Durbin-Watson:                   2.403\n",
      "Prob(Omnibus):                  0.000   Jarque-Bera (JB):               31.542\n",
      "Skew:                           1.331   Prob(JB):                     1.41e-07\n",
      "Kurtosis:                       5.785   Cond. No.                     2.89e+07\n",
      "==============================================================================\n",
      "\n",
      "Notes:\n",
      "[1] Standard Errors assume that the covariance matrix of the errors is correctly specified.\n",
      "[2] The condition number is large, 2.89e+07. This might indicate that there are\n",
      "strong multicollinearity or other numerical problems.\n"
     ]
    }
   ],
   "source": [
    "# 다중회귀분석 진\n",
    "datasets = [data_2017,data_2018,data_2019,data_2020]\n",
    "\n",
    "# Perform regression analysis for each dataset\n",
    "for i, data in enumerate(datasets):\n",
    "    print(f\"Dataset: data_{2017 + i}\")\n",
    "    data['median_income*gini'] = data['median_income'] * data['gini'] \n",
    "    \n",
    "    # 독립 변수와 종속 변수 설정\n",
    "    X = data[['median_income','gini','median_income*gini']]\n",
    "    y = data['hate_crime_case_normalized']\n",
    "\n",
    "    # 상수 (절편) 추가\n",
    "    X = sm.add_constant(X)\n",
    "    \n",
    "    # 다중 선형 회귀 모델 학습\n",
    "    model = sm.OLS(y, X).fit()\n",
    "\n",
    "    # 회귀 분석 결과 출력\n",
    "    print(model.summary())"
   ]
  },
  {
   "cell_type": "code",
   "execution_count": null,
   "metadata": {},
   "outputs": [],
   "source": []
  }
 ],
 "metadata": {
  "accelerator": "GPU",
  "colab": {
   "authorship_tag": "ABX9TyP1khhgRBB5lmvi3DUgX6/e",
   "gpuType": "T4",
   "include_colab_link": true,
   "provenance": []
  },
  "kernelspec": {
   "display_name": "Python 3 (ipykernel)",
   "language": "python",
   "name": "python3"
  },
  "language_info": {
   "codemirror_mode": {
    "name": "ipython",
    "version": 3
   },
   "file_extension": ".py",
   "mimetype": "text/x-python",
   "name": "python",
   "nbconvert_exporter": "python",
   "pygments_lexer": "ipython3",
   "version": "3.10.9"
  }
 },
 "nbformat": 4,
 "nbformat_minor": 1
}
