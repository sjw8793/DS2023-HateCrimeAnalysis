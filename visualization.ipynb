{
 "cells": [
  {
   "cell_type": "code",
   "execution_count": 202,
   "id": "594427bb",
   "metadata": {},
   "outputs": [],
   "source": [
    "# import libraries \n",
    "import pandas as pd \n",
    "import folium\n",
    "import json"
   ]
  },
  {
   "cell_type": "code",
   "execution_count": 203,
   "id": "9578a077",
   "metadata": {},
   "outputs": [],
   "source": [
    "#혐오범죄 파일 읽어오기\n",
    "df = pd.read_excel('./hate_crime_dataset.xlsx')"
   ]
  },
  {
   "cell_type": "markdown",
   "id": "fad9f83b",
   "metadata": {},
   "source": [
    "# 주별로 구분이 가능하도록 개별 주 경계 데이터로 나눠준다"
   ]
  },
  {
   "cell_type": "code",
   "execution_count": 218,
   "id": "e7542d25",
   "metadata": {},
   "outputs": [],
   "source": [
    "total_boundary_path = 'dataset/boundary.json'\n",
    "\n",
    "# 전체 주별 json파일 열기\n",
    "with open(total_boundary_path) as f:\n",
    "    data = json.load(f)\n",
    "\n",
    "# 개별 주 경계 데이터를 담을 딕셔너리\n",
    "states_data = {}\n",
    "\n",
    "count = 0\n",
    "# GeoJSON 데이터를 순회하며 주(State) 경계 데이터 분리\n",
    "for feature in data['features']:\n",
    "    state_name = feature['properties']['NAME']\n",
    "    states_data[state_name] = {\n",
    "        'type': 'FeatureCollection',\n",
    "        'features': [feature]\n",
    "    }\n",
    "\n",
    "# 개별 주 경계 데이터를 개별 파일로 저장\n",
    "for state_name, state_data in states_data.items():\n",
    "    state_json_path = f'state_boundary_data/{state_name}.json'\n",
    "    \n",
    "    with open(state_json_path, 'w') as f:\n",
    "        json.dump(state_data, f)"
   ]
  },
  {
   "cell_type": "code",
   "execution_count": 219,
   "id": "a919bd2f",
   "metadata": {},
   "outputs": [
    {
     "data": {
      "text/plain": [
       "array(['Alaska', 'Alabama', 'Arkansas', 'Arizona', 'California',\n",
       "       'Colorado', 'Connecticut', 'District of Columbia', 'Delaware',\n",
       "       'Florida', 'Georgia', 'Hawaii', 'Iowa', 'Idaho', 'Illinois',\n",
       "       'Indiana', 'Kansas', 'Kentucky', 'Louisiana', 'Massachusetts',\n",
       "       'Maryland', 'Maine', 'Michigan', 'Minnesota', 'Missouri',\n",
       "       'Mississippi', 'Montana', 'Nebraska', 'North Carolina',\n",
       "       'North Dakota', 'New Hampshire', 'New Jersey', 'New Mexico',\n",
       "       'Nevada', 'New York', 'Ohio', 'Oklahoma', 'Oregon', 'Pennsylvania',\n",
       "       'Rhode Island', 'South Carolina', 'South Dakota', 'Tennessee',\n",
       "       'Texas', 'Utah', 'Virginia', 'Vermont', 'Washington', 'Wisconsin',\n",
       "       'West Virginia', 'Wyoming'], dtype=object)"
      ]
     },
     "execution_count": 219,
     "metadata": {},
     "output_type": "execute_result"
    }
   ],
   "source": [
    "#Federal이 state_name인 경우는 연방 수사국이 자체적으로 조사한 혐오범죄로 특정 주로 인식하지 못하여 제거해준다\n",
    "df = df[df[\"state_name\"] != \"Federal\"]\n",
    "df[\"state_name\"].unique()"
   ]
  },
  {
   "cell_type": "code",
   "execution_count": 220,
   "id": "3722e4b0",
   "metadata": {},
   "outputs": [],
   "source": [
    "normalized_data = []\n",
    "#2017~2021년도의 정규화 데이터 저장\n",
    "for i in [2017,2018,2019,2020,2021]:\n",
    "    normalized_data.append(pd.read_csv(f\"dataset/normalized_dataset_{i}.csv\"))\n",
    "\n",
    "#number_of_offenders_normalized는 공격자가 특정되지 않은 경우 0이될 수 있어서 hate_crime_case_normalized를 이용하는 것이 가장 효과적"
   ]
  },
  {
   "cell_type": "code",
   "execution_count": 221,
   "id": "58f5773c",
   "metadata": {},
   "outputs": [],
   "source": [
    "def style_function(feature):\n",
    "    return {\n",
    "        'fillColor': 'gray',\n",
    "        'weight': 1,\n",
    "    }"
   ]
  },
  {
   "cell_type": "markdown",
   "id": "03b47e76",
   "metadata": {},
   "source": [
    "# 단순 사건 수를 이용한 시각화"
   ]
  },
  {
   "cell_type": "code",
   "execution_count": 222,
   "id": "f05fdd7c",
   "metadata": {},
   "outputs": [
    {
     "name": "stderr",
     "output_type": "stream",
     "text": [
      "C:\\Users\\parkg\\anaconda3\\envs\\2023-DS-B\\lib\\site-packages\\folium\\folium.py:465: FutureWarning: The choropleth  method has been deprecated. Instead use the new Choropleth class, which has the same arguments. See the example notebook 'GeoJSON_and_choropleth' for how to do this.\n",
      "  warnings.warn(\n",
      "C:\\Users\\parkg\\anaconda3\\envs\\2023-DS-B\\lib\\site-packages\\folium\\folium.py:465: FutureWarning: The choropleth  method has been deprecated. Instead use the new Choropleth class, which has the same arguments. See the example notebook 'GeoJSON_and_choropleth' for how to do this.\n",
      "  warnings.warn(\n",
      "C:\\Users\\parkg\\anaconda3\\envs\\2023-DS-B\\lib\\site-packages\\folium\\folium.py:465: FutureWarning: The choropleth  method has been deprecated. Instead use the new Choropleth class, which has the same arguments. See the example notebook 'GeoJSON_and_choropleth' for how to do this.\n",
      "  warnings.warn(\n",
      "C:\\Users\\parkg\\anaconda3\\envs\\2023-DS-B\\lib\\site-packages\\folium\\folium.py:465: FutureWarning: The choropleth  method has been deprecated. Instead use the new Choropleth class, which has the same arguments. See the example notebook 'GeoJSON_and_choropleth' for how to do this.\n",
      "  warnings.warn(\n",
      "C:\\Users\\parkg\\anaconda3\\envs\\2023-DS-B\\lib\\site-packages\\folium\\folium.py:465: FutureWarning: The choropleth  method has been deprecated. Instead use the new Choropleth class, which has the same arguments. See the example notebook 'GeoJSON_and_choropleth' for how to do this.\n",
      "  warnings.warn(\n"
     ]
    }
   ],
   "source": [
    "for i in [2017,2018,2019,2020,2021]:\n",
    "    #2017 ~ 2021년도 데이터 순차적 출력\n",
    "    data = normalized_data[i-2017].set_index('state_name')['hate_crime_case_normalized'].squeeze()\n",
    "    \n",
    "    #8개의 구역으로 경계를 나눔\n",
    "    bins = list(data.quantile([0,0.15,0.3,0.45,0.60,0.75,0.9,1]))\n",
    "\n",
    "    # Folium 지도 객체 생성\n",
    "    m = folium.Map(\n",
    "        location=[38, -95],\n",
    "        zoom_start=5,\n",
    "        tiles='cartodbpositron',\n",
    "    )  # 초기 지도 중앙 위치와 확대 레벨 타일 모양 설정\n",
    "\n",
    "    m.choropleth(\n",
    "        geo_data= total_boundary_path,\n",
    "        #2017 ~ 2021년도 데이터 순차적 출력\n",
    "        data=data,\n",
    "        fill_color='YlOrRd',\n",
    "        fill_opacity=0.8,\n",
    "        line_opacity=0.4,\n",
    "        key_on='properties.NAME',\n",
    "        legend_name=f\"{i}년도 주별 혐오범죄 발생\",\n",
    "        bins=bins,\n",
    "        )\n",
    "    # JSON 파일을 Folium에 추가\n",
    "    for state in df[\"state_name\"].unique():\n",
    "        geojson_path = f'state_boundary_data/{state}.json'  # 각 주의 경계 데이터 파일 경로\n",
    "        folium.GeoJson(\n",
    "            geojson_path,\n",
    "            name=state,\n",
    "            style_function=style_function,\n",
    "        ).add_to(m)\n",
    "\n",
    "    folium.LayerControl().add_to(m)\n",
    "    # 지도를 HTML 파일로 저장\n",
    "    m.save(f'Total_map/{i}_map.html')"
   ]
  },
  {
   "cell_type": "markdown",
   "id": "911e9b94",
   "metadata": {},
   "source": [
    "Alabama주에는 거의 혐오범죄가 없었는데 2021년도에 크게 증가한것이 좀 신기하다"
   ]
  },
  {
   "cell_type": "markdown",
   "id": "e62b587e",
   "metadata": {},
   "source": [
    "# 2017 ~ 2021 통합자료 시각화"
   ]
  },
  {
   "cell_type": "code",
   "execution_count": 223,
   "id": "4745cd1e",
   "metadata": {},
   "outputs": [],
   "source": [
    "intergrated_data = normalized_data[0]\n",
    "for i in range(1,5):\n",
    "    intergrated_data['hate_crime_case_normalized'] += normalized_data[i]['hate_crime_case_normalized']"
   ]
  },
  {
   "cell_type": "code",
   "execution_count": 224,
   "id": "125e1100",
   "metadata": {},
   "outputs": [
    {
     "name": "stderr",
     "output_type": "stream",
     "text": [
      "C:\\Users\\parkg\\anaconda3\\envs\\2023-DS-B\\lib\\site-packages\\folium\\folium.py:465: FutureWarning: The choropleth  method has been deprecated. Instead use the new Choropleth class, which has the same arguments. See the example notebook 'GeoJSON_and_choropleth' for how to do this.\n",
      "  warnings.warn(\n"
     ]
    }
   ],
   "source": [
    "data = intergrated_data.set_index('state_name')['hate_crime_case_normalized'].squeeze()\n",
    "    \n",
    "#8개의 구역으로 경계를 나눔\n",
    "bins = list(data.quantile([0,0.15,0.3,0.45,0.60,0.75,0.9,1]))\n",
    "\n",
    "# Folium 지도 객체 생성\n",
    "m = folium.Map(\n",
    "    location=[38, -95],\n",
    "    zoom_start=5,\n",
    "    tiles='cartodbpositron',\n",
    ")  # 초기 지도 중앙 위치와 확대 레벨 타일 모양 설정\n",
    "\n",
    "m.choropleth(\n",
    "    geo_data= total_boundary_path,\n",
    "    #2017 ~ 2021년도 데이터 순차적 출력\n",
    "    data=data,\n",
    "    fill_color='YlOrRd',\n",
    "    fill_opacity=0.8,\n",
    "    line_opacity=0.4,\n",
    "    key_on='properties.NAME',\n",
    "    legend_name=f\"2017~2021년도 통합 주별 혐오범죄 발생\",\n",
    "    bins=bins,\n",
    "    )\n",
    "# JSON 파일을 Folium에 추가\n",
    "for state in df[\"state_name\"].unique():\n",
    "    geojson_path = f'state_boundary_data/{state}.json'  # 각 주의 경계 데이터 파일 경로\n",
    "    folium.GeoJson(\n",
    "        geojson_path,\n",
    "        name=state,\n",
    "        style_function=style_function,\n",
    "    ).add_to(m)\n",
    "\n",
    "folium.LayerControl().add_to(m)\n",
    "# 지도를 HTML 파일로 저장\n",
    "m.save(f'intergrated_map/2017~2021_map.html')"
   ]
  },
  {
   "cell_type": "code",
   "execution_count": 225,
   "id": "f2375006",
   "metadata": {},
   "outputs": [],
   "source": [
    "normalized_race_data = []\n",
    "#2017~2021년도의 정규화 데이터 저장\n",
    "for i in [2017,2018,2019,2020,2021]:\n",
    "    normalized_race_data.append(pd.read_csv(f\"dataset/norm_{i}_race.csv\"))"
   ]
  },
  {
   "cell_type": "markdown",
   "id": "4bc2c6d7",
   "metadata": {},
   "source": [
    "# 인종을 구분한 시각화 - 아시안 인종 적용"
   ]
  },
  {
   "cell_type": "code",
   "execution_count": 226,
   "id": "d5d3d2b4",
   "metadata": {},
   "outputs": [
    {
     "name": "stderr",
     "output_type": "stream",
     "text": [
      "C:\\Users\\parkg\\anaconda3\\envs\\2023-DS-B\\lib\\site-packages\\folium\\folium.py:465: FutureWarning: The choropleth  method has been deprecated. Instead use the new Choropleth class, which has the same arguments. See the example notebook 'GeoJSON_and_choropleth' for how to do this.\n",
      "  warnings.warn(\n",
      "C:\\Users\\parkg\\anaconda3\\envs\\2023-DS-B\\lib\\site-packages\\folium\\folium.py:465: FutureWarning: The choropleth  method has been deprecated. Instead use the new Choropleth class, which has the same arguments. See the example notebook 'GeoJSON_and_choropleth' for how to do this.\n",
      "  warnings.warn(\n",
      "C:\\Users\\parkg\\anaconda3\\envs\\2023-DS-B\\lib\\site-packages\\folium\\folium.py:465: FutureWarning: The choropleth  method has been deprecated. Instead use the new Choropleth class, which has the same arguments. See the example notebook 'GeoJSON_and_choropleth' for how to do this.\n",
      "  warnings.warn(\n",
      "C:\\Users\\parkg\\anaconda3\\envs\\2023-DS-B\\lib\\site-packages\\folium\\folium.py:465: FutureWarning: The choropleth  method has been deprecated. Instead use the new Choropleth class, which has the same arguments. See the example notebook 'GeoJSON_and_choropleth' for how to do this.\n",
      "  warnings.warn(\n",
      "C:\\Users\\parkg\\anaconda3\\envs\\2023-DS-B\\lib\\site-packages\\folium\\folium.py:465: FutureWarning: The choropleth  method has been deprecated. Instead use the new Choropleth class, which has the same arguments. See the example notebook 'GeoJSON_and_choropleth' for how to do this.\n",
      "  warnings.warn(\n"
     ]
    }
   ],
   "source": [
    "for i in [2017,2018,2019,2020,2021]:\n",
    "    #2017 ~ 2021년도 데이터 순차적 출력\n",
    "    #주별 아시안 인종에 대할 차별 추출\n",
    "    data = normalized_race_data[i-2017].set_index('State')['Asian'].squeeze()\n",
    "    \n",
    "    #8개의 구역으로 경계를 나눔\n",
    "    bins = list(data.quantile([0,0.15,0.3,0.45,0.60,0.75,0.9,1]))\n",
    "\n",
    "    # Folium 지도 객체 생성\n",
    "    m = folium.Map(\n",
    "        location=[38, -95],\n",
    "        zoom_start=5,\n",
    "        tiles='cartodbpositron',\n",
    "    )  # 초기 지도 중앙 위치와 확대 레벨 타일 모양 설정\n",
    "\n",
    "    m.choropleth(\n",
    "        geo_data= total_boundary_path,\n",
    "        #2017 ~ 2021년도 데이터 순차적 출력\n",
    "        data=data,\n",
    "        fill_color='YlOrRd',\n",
    "        fill_opacity=0.8,\n",
    "        line_opacity=0.4,\n",
    "        key_on='properties.NAME',\n",
    "        legend_name=f\"{i}년도 주별 아시안 인종 혐오범죄 발생\",\n",
    "        bins=bins,\n",
    "        )\n",
    "    # JSON 파일을 Folium에 추가\n",
    "    for state in df[\"state_name\"].unique():\n",
    "        geojson_path = f'state_boundary_data/{state}.json'  # 각 주의 경계 데이터 파일 경로\n",
    "        folium.GeoJson(\n",
    "            geojson_path,\n",
    "            name=state,\n",
    "            style_function=style_function,\n",
    "        ).add_to(m)\n",
    "\n",
    "    folium.LayerControl().add_to(m)\n",
    "    # 지도를 HTML 파일로 저장\n",
    "    m.save(f'Asian_map/{i}_Asian_hate_map.html')"
   ]
  },
  {
   "cell_type": "markdown",
   "id": "27ffafec",
   "metadata": {},
   "source": [
    "# 인종을 구분한 시각화 - 흑인 적용"
   ]
  },
  {
   "cell_type": "code",
   "execution_count": 227,
   "id": "43d80a2d",
   "metadata": {},
   "outputs": [
    {
     "name": "stderr",
     "output_type": "stream",
     "text": [
      "C:\\Users\\parkg\\anaconda3\\envs\\2023-DS-B\\lib\\site-packages\\folium\\folium.py:465: FutureWarning: The choropleth  method has been deprecated. Instead use the new Choropleth class, which has the same arguments. See the example notebook 'GeoJSON_and_choropleth' for how to do this.\n",
      "  warnings.warn(\n",
      "C:\\Users\\parkg\\anaconda3\\envs\\2023-DS-B\\lib\\site-packages\\folium\\folium.py:465: FutureWarning: The choropleth  method has been deprecated. Instead use the new Choropleth class, which has the same arguments. See the example notebook 'GeoJSON_and_choropleth' for how to do this.\n",
      "  warnings.warn(\n",
      "C:\\Users\\parkg\\anaconda3\\envs\\2023-DS-B\\lib\\site-packages\\folium\\folium.py:465: FutureWarning: The choropleth  method has been deprecated. Instead use the new Choropleth class, which has the same arguments. See the example notebook 'GeoJSON_and_choropleth' for how to do this.\n",
      "  warnings.warn(\n",
      "C:\\Users\\parkg\\anaconda3\\envs\\2023-DS-B\\lib\\site-packages\\folium\\folium.py:465: FutureWarning: The choropleth  method has been deprecated. Instead use the new Choropleth class, which has the same arguments. See the example notebook 'GeoJSON_and_choropleth' for how to do this.\n",
      "  warnings.warn(\n",
      "C:\\Users\\parkg\\anaconda3\\envs\\2023-DS-B\\lib\\site-packages\\folium\\folium.py:465: FutureWarning: The choropleth  method has been deprecated. Instead use the new Choropleth class, which has the same arguments. See the example notebook 'GeoJSON_and_choropleth' for how to do this.\n",
      "  warnings.warn(\n"
     ]
    }
   ],
   "source": [
    "for i in [2017,2018,2019,2020,2021]:\n",
    "    #2017 ~ 2021년도 데이터 순차적 출력\n",
    "    #주별 아시안 인종에 대할 차별 추출\n",
    "    data = normalized_race_data[i-2017].set_index('State')['Asian'].squeeze()\n",
    "    \n",
    "    #8개의 구역으로 경계를 나눔\n",
    "    bins = list(data.quantile([0,0.15,0.3,0.45,0.60,0.75,0.9,1]))\n",
    "\n",
    "    # Folium 지도 객체 생성\n",
    "    m = folium.Map(\n",
    "        location=[38, -95],\n",
    "        zoom_start=5,\n",
    "        tiles='cartodbpositron',\n",
    "    )  # 초기 지도 중앙 위치와 확대 레벨 타일 모양 설정\n",
    "\n",
    "    m.choropleth(\n",
    "        geo_data= total_boundary_path,\n",
    "        #2017 ~ 2021년도 데이터 순차적 출력\n",
    "        data=data,\n",
    "        fill_color='YlOrRd',\n",
    "        fill_opacity=0.8,\n",
    "        line_opacity=0.4,\n",
    "        key_on='properties.NAME',\n",
    "        legend_name=f\"{i}년도 주별 흑인 혐오범죄 발생\",\n",
    "        bins=bins,\n",
    "        )\n",
    "    # JSON 파일을 Folium에 추가\n",
    "    for state in df[\"state_name\"].unique():\n",
    "        geojson_path = f'state_boundary_data/{state}.json'  # 각 주의 경계 데이터 파일 경로\n",
    "        folium.GeoJson(\n",
    "            geojson_path,\n",
    "            name=state,\n",
    "            style_function=style_function,\n",
    "        ).add_to(m)\n",
    "\n",
    "    folium.LayerControl().add_to(m)\n",
    "    # 지도를 HTML 파일로 저장\n",
    "    m.save(f'Black_map/{i}_Asian_hate_map.html')"
   ]
  },
  {
   "cell_type": "code",
   "execution_count": 228,
   "id": "6c8d97d8",
   "metadata": {},
   "outputs": [],
   "source": [
    "intergrated_data = normalized_race_data[0].set_index('State')['Asian'].squeeze()\n",
    "\n",
    "for i in range(1,5):\n",
    "    intergrated_data += normalized_race_data[i].set_index('State')['Asian'].squeeze()"
   ]
  },
  {
   "cell_type": "markdown",
   "id": "a3d30b58",
   "metadata": {},
   "source": [
    "# 인종을 구분한 통합 시각화 - 아시안 인종 적용"
   ]
  },
  {
   "cell_type": "code",
   "execution_count": 229,
   "id": "a7e8efbc",
   "metadata": {},
   "outputs": [
    {
     "name": "stderr",
     "output_type": "stream",
     "text": [
      "C:\\Users\\parkg\\anaconda3\\envs\\2023-DS-B\\lib\\site-packages\\folium\\folium.py:465: FutureWarning: The choropleth  method has been deprecated. Instead use the new Choropleth class, which has the same arguments. See the example notebook 'GeoJSON_and_choropleth' for how to do this.\n",
      "  warnings.warn(\n"
     ]
    }
   ],
   "source": [
    "data = intergrated_data\n",
    "    \n",
    "#8개의 구역으로 경계를 나눔\n",
    "bins = list(data.quantile([0,0.15,0.3,0.45,0.60,0.75,0.9,1]))\n",
    "\n",
    "# Folium 지도 객체 생성\n",
    "m = folium.Map(\n",
    "    location=[38, -95],\n",
    "    zoom_start=5,\n",
    "    tiles='cartodbpositron',\n",
    ")  # 초기 지도 중앙 위치와 확대 레벨 타일 모양 설정\n",
    "\n",
    "m.choropleth(\n",
    "    geo_data= total_boundary_path,\n",
    "    #2017 ~ 2021년도 데이터 순차적 출력\n",
    "    data=data,\n",
    "    fill_color='YlOrRd',\n",
    "    fill_opacity=0.8,\n",
    "    line_opacity=0.4,\n",
    "    key_on='properties.NAME',\n",
    "    legend_name=f\"주별 2017~2021 아시안 인종 혐오범죄 발생\",\n",
    "    bins=bins,\n",
    "    )\n",
    "# JSON 파일을 Folium에 추가\n",
    "for state in df[\"state_name\"].unique():\n",
    "    geojson_path = f'state_boundary_data/{state}.json'  # 각 주의 경계 데이터 파일 경로\n",
    "    folium.GeoJson(\n",
    "        geojson_path,\n",
    "        name=state,\n",
    "        style_function=style_function,\n",
    "    ).add_to(m)\n",
    "\n",
    "folium.LayerControl().add_to(m)\n",
    "# 지도를 HTML 파일로 저장\n",
    "m.save(f'intergrated_map/intergrated_Asian_hate_map.html')"
   ]
  },
  {
   "cell_type": "code",
   "execution_count": 230,
   "id": "80488a38",
   "metadata": {},
   "outputs": [],
   "source": [
    "intergrated_data = normalized_race_data[0].set_index('State')['Black'].squeeze()\n",
    "\n",
    "for i in range(1,5):\n",
    "    intergrated_data += normalized_race_data[i].set_index('State')['Black'].squeeze()"
   ]
  },
  {
   "cell_type": "markdown",
   "id": "12074640",
   "metadata": {},
   "source": [
    "# 인종을 구분한 통합 시각화 - 흑인 적용"
   ]
  },
  {
   "cell_type": "code",
   "execution_count": 231,
   "id": "89f92d39",
   "metadata": {},
   "outputs": [
    {
     "name": "stderr",
     "output_type": "stream",
     "text": [
      "C:\\Users\\parkg\\anaconda3\\envs\\2023-DS-B\\lib\\site-packages\\folium\\folium.py:465: FutureWarning: The choropleth  method has been deprecated. Instead use the new Choropleth class, which has the same arguments. See the example notebook 'GeoJSON_and_choropleth' for how to do this.\n",
      "  warnings.warn(\n"
     ]
    }
   ],
   "source": [
    "data = intergrated_data\n",
    "    \n",
    "#8개의 구역으로 경계를 나눔\n",
    "bins = list(data.quantile([0,0.15,0.3,0.45,0.60,0.75,0.9,1]))\n",
    "\n",
    "# Folium 지도 객체 생성\n",
    "m = folium.Map(\n",
    "    location=[38, -95],\n",
    "    zoom_start=5,\n",
    "    tiles='cartodbpositron',\n",
    ")  # 초기 지도 중앙 위치와 확대 레벨 타일 모양 설정\n",
    "\n",
    "m.choropleth(\n",
    "    geo_data= total_boundary_path,\n",
    "    #2017 ~ 2021년도 데이터 순차적 출력\n",
    "    data=data,\n",
    "    fill_color='YlOrRd',\n",
    "    fill_opacity=0.8,\n",
    "    line_opacity=0.4,\n",
    "    key_on='properties.NAME',\n",
    "    legend_name=f\"주별 2017~2021 흑인 혐오범죄 발생\",\n",
    "    bins=bins,\n",
    "    )\n",
    "# JSON 파일을 Folium에 추가\n",
    "for state in df[\"state_name\"].unique():\n",
    "    geojson_path = f'state_boundary_data/{state}.json'  # 각 주의 경계 데이터 파일 경로\n",
    "    folium.GeoJson(\n",
    "        geojson_path,\n",
    "        name=state,\n",
    "        style_function=style_function,\n",
    "    ).add_to(m)\n",
    "\n",
    "folium.LayerControl().add_to(m)\n",
    "# 지도를 HTML 파일로 저장\n",
    "m.save(f'intergrated_map/intergrated_Black_hate_map.html')"
   ]
  }
 ],
 "metadata": {
  "kernelspec": {
   "display_name": "Python [conda env:2023-DS-B] *",
   "language": "python",
   "name": "conda-env-2023-DS-B-py"
  },
  "language_info": {
   "codemirror_mode": {
    "name": "ipython",
    "version": 3
   },
   "file_extension": ".py",
   "mimetype": "text/x-python",
   "name": "python",
   "nbconvert_exporter": "python",
   "pygments_lexer": "ipython3",
   "version": "3.10.9"
  }
 },
 "nbformat": 4,
 "nbformat_minor": 5
}
